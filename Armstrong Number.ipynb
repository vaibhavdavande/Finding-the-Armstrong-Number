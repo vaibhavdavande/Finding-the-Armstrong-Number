{
 "cells": [
  {
   "cell_type": "code",
   "execution_count": 1,
   "metadata": {},
   "outputs": [
    {
     "name": "stdout",
     "output_type": "stream",
     "text": [
      "153\n",
      "The given Number is Armstrong No\n"
     ]
    }
   ],
   "source": [
    "#Program to check Armstrong Number\n",
    "#Approach 1\n",
    "n = '153'\n",
    "#ls = list(n)\n",
    "p=len(n)\n",
    "#print(p)\n",
    "#print(ls)\n",
    "sum = 0\n",
    "for i in n:\n",
    "    sum = sum + int(i)**p\n",
    "print(sum)\n",
    "if str(sum)==n:\n",
    "    print('The given Number is Armstrong No')"
   ]
  },
  {
   "cell_type": "code",
   "execution_count": 2,
   "metadata": {},
   "outputs": [
    {
     "name": "stdout",
     "output_type": "stream",
     "text": [
      "Enter your no to whether it is Armstrong or not:153\n",
      "153\n",
      "The given Number 153 is an Armstrong No\n"
     ]
    }
   ],
   "source": [
    "#Program to check Armstrong Number\n",
    "#Approach 2\n",
    "n = input('Enter your no to whether it is Armstrong or not:')\n",
    "p=len(n)\n",
    "sum = 0\n",
    "for i in n:\n",
    "    sum = sum + int(i)**p\n",
    "print(sum)\n",
    "if str(sum)==n:\n",
    "    print('The given Number',n, 'is an Armstrong No')\n",
    "else:\n",
    "    print('The given Number',n, 'is not an Armstrong No')"
   ]
  },
  {
   "cell_type": "code",
   "execution_count": 11,
   "metadata": {},
   "outputs": [
    {
     "name": "stdout",
     "output_type": "stream",
     "text": [
      "[153, 370, 371, 407]\n"
     ]
    }
   ],
   "source": [
    "#Approach 3 To find Armstrong number in between given ranges\n",
    "n = list(range(100,1000))\n",
    "no = []\n",
    "for j in n:\n",
    "    p=len(str(j))\n",
    "    sum = 0\n",
    "    for i in str(j):\n",
    "        sum = sum + int(i)**p\n",
    "        #print(sum)\n",
    "    if sum==j:\n",
    "        no.append(sum)\n",
    "print(no)"
   ]
  }
 ],
 "metadata": {
  "kernelspec": {
   "display_name": "Python 3",
   "language": "python",
   "name": "python3"
  },
  "language_info": {
   "codemirror_mode": {
    "name": "ipython",
    "version": 3
   },
   "file_extension": ".py",
   "mimetype": "text/x-python",
   "name": "python",
   "nbconvert_exporter": "python",
   "pygments_lexer": "ipython3",
   "version": "3.7.4"
  }
 },
 "nbformat": 4,
 "nbformat_minor": 2
}
